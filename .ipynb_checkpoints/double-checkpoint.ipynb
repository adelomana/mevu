{
 "cells": [
  {
   "cell_type": "markdown",
   "id": "202ab55b",
   "metadata": {},
   "source": [
    "# info\n",
    "This notebook finds the gene pairs that are conditionally esential. <br>\n",
    "Iterate over pairs and state their essentiality likelihood."
   ]
  },
  {
   "cell_type": "code",
   "execution_count": 1,
   "id": "aa3ee890",
   "metadata": {},
   "outputs": [],
   "source": [
    "import os, pickle, cobra"
   ]
  },
  {
   "cell_type": "markdown",
   "id": "0f34ed5f",
   "metadata": {},
   "source": [
    "# 0. user-defined variables"
   ]
  },
  {
   "cell_type": "code",
   "execution_count": 2,
   "id": "6d25ebb8",
   "metadata": {},
   "outputs": [],
   "source": [
    "simulation_dir = '/Users/adrian/projects/hpc_results/constrained/double_KO/deployments/'\n",
    "model_file = '/Users/adrian/projects/mevu/data/model/Recon3DModel_301.mat'\n",
    "heatmap_info_file = '/Users/adrian/projects/mevu/results/heatmap.doubleKO.pickle'"
   ]
  },
  {
   "cell_type": "markdown",
   "id": "6dcdbbc2",
   "metadata": {},
   "source": [
    "# 1. simulate original model"
   ]
  },
  {
   "cell_type": "code",
   "execution_count": 3,
   "id": "fa62f7d9",
   "metadata": {},
   "outputs": [
    {
     "name": "stdout",
     "output_type": "stream",
     "text": [
      "CPU times: user 2min 42s, sys: 486 ms, total: 2min 43s\n",
      "Wall time: 2min 43s\n"
     ]
    }
   ],
   "source": [
    "%%time\n",
    "model = cobra.io.load_matlab_model(model_file)"
   ]
  },
  {
   "cell_type": "code",
   "execution_count": 4,
   "id": "cb9607a4",
   "metadata": {},
   "outputs": [],
   "source": [
    "optimization_results = model.optimize()\n",
    "original_growth_value = optimization_results.objective_value # 755.0032155506631"
   ]
  },
  {
   "cell_type": "code",
   "execution_count": 5,
   "id": "ce02a7e9",
   "metadata": {},
   "outputs": [
    {
     "name": "stdout",
     "output_type": "stream",
     "text": [
      "2248\n",
      "2525628\n"
     ]
    }
   ],
   "source": [
    "print(len(model.genes))\n",
    "expected_pairs = int(((2248*2248)-2248)/2)\n",
    "print(expected_pairs)"
   ]
  },
  {
   "cell_type": "markdown",
   "id": "3f1d1c01",
   "metadata": {},
   "source": [
    "# 1. read data"
   ]
  },
  {
   "cell_type": "code",
   "execution_count": 6,
   "id": "2999cd2e",
   "metadata": {},
   "outputs": [
    {
     "name": "stdout",
     "output_type": "stream",
     "text": [
      " 2525628\n",
      "[('8639.1', '26.1'), ('8639.1', '314.2'), ('8639.1', '314.1'), ('8639.1', '1591.1'), ('8639.1', '1594.1'), ('8639.1', '10993.1'), ('8639.1', '6818.1'), ('8639.1', '89874.1'), ('8639.1', '160287.1'), ('8639.1', '3939.1')]\n"
     ]
    }
   ],
   "source": [
    "problem_size = len(model.genes)\n",
    "essentiality = {}\n",
    "gene_pairs = []\n",
    "\n",
    "for i in range(problem_size):\n",
    "    for j in range(problem_size):\n",
    "        if i < j:\n",
    "            a = model.genes[i].id\n",
    "            b = model.genes[j].id\n",
    "            gene_pair = (a, b)\n",
    "            \n",
    "            gene_pairs.append(gene_pair)\n",
    "            essentiality[gene_pair] = []\n",
    "                \n",
    "print('', len(gene_pairs))\n",
    "print(gene_pairs[:10])"
   ]
  },
  {
   "cell_type": "code",
   "execution_count": 7,
   "id": "52419ebd",
   "metadata": {},
   "outputs": [],
   "source": [
    "simulation_folders = next(os.walk(simulation_dir))[1]\n",
    "simulation_folders.sort()"
   ]
  },
  {
   "cell_type": "markdown",
   "id": "13c422b0",
   "metadata": {},
   "source": [
    "## 1.1. iterate over samples"
   ]
  },
  {
   "cell_type": "code",
   "execution_count": 8,
   "id": "9708d852",
   "metadata": {},
   "outputs": [
    {
     "name": "stdout",
     "output_type": "stream",
     "text": [
      "working with E-GEOD-30169_GSM752739.cel.pickle...\n",
      "working with E-GEOD-30169_GSM752740.cel.pickle...\n",
      "working with E-GEOD-30169_GSM752741.cel.pickle...\n",
      "working with E-GEOD-30169_GSM752742.cel.pickle...\n",
      "working with E-GEOD-30169_GSM752743.cel.pickle...\n",
      "working with E-GEOD-30169_GSM752744.cel.pickle...\n",
      "working with E-GEOD-30169_GSM752745.cel.pickle...\n",
      "working with E-GEOD-30169_GSM752746.cel.pickle...\n",
      "working with E-GEOD-30169_GSM752747.cel.pickle...\n",
      "working with E-GEOD-30169_GSM752748.cel.pickle...\n",
      "CPU times: user 24min 38s, sys: 10.2 s, total: 24min 49s\n",
      "Wall time: 42min 10s\n"
     ]
    }
   ],
   "source": [
    "%%time\n",
    "\n",
    "### for 10 conditions it takes in necio5 [Wall time: 24 min]\n",
    "\n",
    "for simulation_folder in simulation_folders[:10]:\n",
    "    \n",
    "    # 1. read the jar file\n",
    "    pickle_files = os.listdir(simulation_dir + simulation_folder + '/results/')\n",
    "    condition_name = pickle_files[0]\n",
    "    print('working with {}...'.format(condition_name))\n",
    "    if len(pickle_files) != 1:\n",
    "        raise ValueError('Found a diffent number of expected files')\n",
    "    jar = simulation_dir + simulation_folder + '/results/' + condition_name\n",
    "    f = open(jar,'rb')\n",
    "    [sampleID, result, double_ko_results] = pickle.load(f)\n",
    "    f.close()\n",
    "    \n",
    "    # 2. add gene essentiality to each pair\n",
    "    filtered = double_ko_results[double_ko_results['growth'] < original_growth_value/2]\n",
    "    #print(filtered.shape)\n",
    "    for pair in filtered['ids']:\n",
    "        cobra_pair_list = list(pair)\n",
    "        if len(cobra_pair_list) == 2:\n",
    "            a = cobra_pair_list[0]; b = cobra_pair_list[1]\n",
    "            forward = (a, b); reverse = (b, a)\n",
    "\n",
    "            if forward in gene_pairs:\n",
    "                essentiality[forward].append(condition_name)\n",
    "            if reverse in gene_pairs:\n",
    "                essentiality[reverse].append(condition_name)"
   ]
  },
  {
   "cell_type": "markdown",
   "id": "fdfb920d",
   "metadata": {},
   "source": [
    "# 2. store data"
   ]
  },
  {
   "cell_type": "code",
   "execution_count": 9,
   "id": "e1a004eb",
   "metadata": {},
   "outputs": [],
   "source": [
    "jar = heatmap_info_file\n",
    "f = open(jar,'wb')\n",
    "pickle.dump(essentiality, f)\n",
    "f.close()"
   ]
  }
 ],
 "metadata": {
  "kernelspec": {
   "display_name": "Python 3",
   "language": "python",
   "name": "python3"
  },
  "language_info": {
   "codemirror_mode": {
    "name": "ipython",
    "version": 3
   },
   "file_extension": ".py",
   "mimetype": "text/x-python",
   "name": "python",
   "nbconvert_exporter": "python",
   "pygments_lexer": "ipython3",
   "version": "3.8.11"
  }
 },
 "nbformat": 4,
 "nbformat_minor": 5
}
