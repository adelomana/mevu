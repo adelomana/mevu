{
 "cells": [
  {
   "cell_type": "markdown",
   "id": "202ab55b",
   "metadata": {},
   "source": [
    "# info\n",
    "This notebook finds the gene pairs that are conditionally esential. <br>\n",
    "Iterate over pairs and state their essentiality likelihood."
   ]
  },
  {
   "cell_type": "code",
   "execution_count": 1,
   "id": "aa3ee890",
   "metadata": {},
   "outputs": [],
   "source": [
    "import os, pickle, cobra"
   ]
  },
  {
   "cell_type": "markdown",
   "id": "0f34ed5f",
   "metadata": {},
   "source": [
    "# 0. user-defined variables"
   ]
  },
  {
   "cell_type": "code",
   "execution_count": 2,
   "id": "6d25ebb8",
   "metadata": {},
   "outputs": [],
   "source": [
    "# necio5\n",
    "simulation_dir = '/Users/adrian/projects/hpc_results/constrained/double_KO/deployments/'\n",
    "model_file = '/Users/adrian/projects/mevu/data/model/Recon3DModel_301.mat'\n",
    "heatmap_info_file = '/Users/adrian/projects/mevu/results/heatmap.doubleKO.pickle'"
   ]
  },
  {
   "cell_type": "code",
   "execution_count": 3,
   "id": "31ce35ec",
   "metadata": {},
   "outputs": [],
   "source": [
    "# drangajokull\n",
    "simulation_dir = '/home/adrian/projects/endomevu/data/hpc_results/constrained/double_KO/deployments/'\n",
    "model_file = '/home/adrian/projects/endomevu/data/model/Recon3DModel_301.mat'\n",
    "heatmap_info_file = '/home/adrian/projects/endomevu/results/heatmap.doubleKO.pickle'"
   ]
  },
  {
   "cell_type": "markdown",
   "id": "6dcdbbc2",
   "metadata": {},
   "source": [
    "# 1. simulate original model"
   ]
  },
  {
   "cell_type": "code",
   "execution_count": 4,
   "id": "fa62f7d9",
   "metadata": {},
   "outputs": [
    {
     "name": "stdout",
     "output_type": "stream",
     "text": [
      "CPU times: user 2min 33s, sys: 93.4 ms, total: 2min 33s\n",
      "Wall time: 2min 33s\n"
     ]
    }
   ],
   "source": [
    "%%time\n",
    "model = cobra.io.load_matlab_model(model_file)"
   ]
  },
  {
   "cell_type": "code",
   "execution_count": 5,
   "id": "cb9607a4",
   "metadata": {},
   "outputs": [],
   "source": [
    "optimization_results = model.optimize()\n",
    "original_growth_value = optimization_results.objective_value # 755.0032155506631"
   ]
  },
  {
   "cell_type": "code",
   "execution_count": 6,
   "id": "ce02a7e9",
   "metadata": {},
   "outputs": [
    {
     "name": "stdout",
     "output_type": "stream",
     "text": [
      "2248\n",
      "2525628\n"
     ]
    }
   ],
   "source": [
    "print(len(model.genes))\n",
    "expected_pairs = int(((2248*2248)-2248)/2)\n",
    "print(expected_pairs)"
   ]
  },
  {
   "cell_type": "markdown",
   "id": "3f1d1c01",
   "metadata": {},
   "source": [
    "# 1. read data"
   ]
  },
  {
   "cell_type": "code",
   "execution_count": 7,
   "id": "2999cd2e",
   "metadata": {},
   "outputs": [
    {
     "name": "stdout",
     "output_type": "stream",
     "text": [
      " 2525628\n",
      "[('26.1', '8639.1'), ('26.1', '314.2'), ('26.1', '314.1'), ('26.1', '1591.1'), ('26.1', '1594.1'), ('26.1', '10993.1'), ('26.1', '6818.1'), ('26.1', '89874.1'), ('26.1', '160287.1'), ('26.1', '55293.1')]\n"
     ]
    }
   ],
   "source": [
    "problem_size = len(model.genes)\n",
    "essentiality = {}\n",
    "gene_pairs = []\n",
    "\n",
    "for i in range(problem_size):\n",
    "    for j in range(problem_size):\n",
    "        if i < j:\n",
    "            a = model.genes[i].id\n",
    "            b = model.genes[j].id\n",
    "            gene_pair = (a, b)\n",
    "            \n",
    "            gene_pairs.append(gene_pair)\n",
    "            essentiality[gene_pair] = []\n",
    "                \n",
    "print('', len(gene_pairs))\n",
    "print(gene_pairs[:10])"
   ]
  },
  {
   "cell_type": "code",
   "execution_count": 8,
   "id": "52419ebd",
   "metadata": {},
   "outputs": [],
   "source": [
    "simulation_folders = next(os.walk(simulation_dir))[1]\n",
    "simulation_folders.sort()"
   ]
  },
  {
   "cell_type": "markdown",
   "id": "13c422b0",
   "metadata": {},
   "source": [
    "## 1.1. iterate over samples"
   ]
  },
  {
   "cell_type": "code",
   "execution_count": 12,
   "id": "9708d852",
   "metadata": {},
   "outputs": [
    {
     "name": "stdout",
     "output_type": "stream",
     "text": [
      "0\n",
      "a30\n",
      "1\n",
      "a31\n",
      "2\n",
      "a32\n",
      "3\n",
      "a33\n",
      "4\n",
      "a34\n",
      "5\n",
      "a35\n",
      "6\n",
      "a36\n",
      "7\n",
      "a37\n",
      "8\n",
      "a38\n",
      "9\n",
      "a39\n",
      "10\n",
      "a40\n",
      "11\n",
      "a41\n",
      "12\n",
      "a42\n",
      "13\n",
      "a43\n",
      "14\n",
      "a44\n",
      "15\n",
      "a45\n",
      "16\n",
      "a46\n",
      "17\n",
      "a47\n",
      "18\n",
      "a48\n",
      "19\n",
      "a49\n",
      "20\n",
      "a50\n",
      "21\n",
      "a51\n",
      "22\n",
      "a52\n",
      "23\n",
      "a53\n",
      "24\n",
      "a54\n",
      "25\n",
      "a55\n"
     ]
    },
    {
     "ename": "IndexError",
     "evalue": "list index out of range",
     "output_type": "error",
     "traceback": [
      "\u001b[0;31m---------------------------------------------------------------------------\u001b[0m",
      "\u001b[0;31mIndexError\u001b[0m                                Traceback (most recent call last)",
      "\u001b[0;32m<ipython-input-12-b385190eb4d1>\u001b[0m in \u001b[0;36m<module>\u001b[0;34m\u001b[0m\n\u001b[1;32m     14\u001b[0m     \u001b[0;31m# 1. read the jar file\u001b[0m\u001b[0;34m\u001b[0m\u001b[0;34m\u001b[0m\u001b[0;34m\u001b[0m\u001b[0m\n\u001b[1;32m     15\u001b[0m     \u001b[0mpickle_files\u001b[0m \u001b[0;34m=\u001b[0m \u001b[0mos\u001b[0m\u001b[0;34m.\u001b[0m\u001b[0mlistdir\u001b[0m\u001b[0;34m(\u001b[0m\u001b[0msimulation_dir\u001b[0m \u001b[0;34m+\u001b[0m \u001b[0msimulation_folder\u001b[0m \u001b[0;34m+\u001b[0m \u001b[0;34m'/results/'\u001b[0m\u001b[0;34m)\u001b[0m\u001b[0;34m\u001b[0m\u001b[0;34m\u001b[0m\u001b[0m\n\u001b[0;32m---> 16\u001b[0;31m     \u001b[0mcondition_name\u001b[0m \u001b[0;34m=\u001b[0m \u001b[0mpickle_files\u001b[0m\u001b[0;34m[\u001b[0m\u001b[0;36m0\u001b[0m\u001b[0;34m]\u001b[0m\u001b[0;34m\u001b[0m\u001b[0;34m\u001b[0m\u001b[0m\n\u001b[0m\u001b[1;32m     17\u001b[0m     \u001b[0;31m#print('working with {}...'.format(condition_name))\u001b[0m\u001b[0;34m\u001b[0m\u001b[0;34m\u001b[0m\u001b[0;34m\u001b[0m\u001b[0m\n\u001b[1;32m     18\u001b[0m     \u001b[0;32mif\u001b[0m \u001b[0mlen\u001b[0m\u001b[0;34m(\u001b[0m\u001b[0mpickle_files\u001b[0m\u001b[0;34m)\u001b[0m \u001b[0;34m!=\u001b[0m \u001b[0;36m1\u001b[0m\u001b[0;34m:\u001b[0m\u001b[0;34m\u001b[0m\u001b[0;34m\u001b[0m\u001b[0m\n",
      "\u001b[0;31mIndexError\u001b[0m: list index out of range"
     ]
    }
   ],
   "source": [
    "\n",
    "### necio5 | 10 conditions | Wall time: 24 min\n",
    "### drangajokull | 10 conditions | Wall time: 27 min\n",
    "### drangajokull | 100 conditions | Wall time: x hours | maybe 4.5 hours\n",
    "### drangajokull | all conditions (xx) | Wall time: xx hours | maybe 4.8 days\n",
    "\n",
    "number_of_working_conditions = 100 # should be len(simulation_folders) = 2590\n",
    "for i in range(number_of_working_conditions):\n",
    "    \n",
    "    #print(i, end=' ')\n",
    "    simulation_folder = simulation_folders[i]\n",
    "    print(i)\n",
    "    print(simulation_folder)\n",
    "    \n",
    "    # 1. read the jar file\n",
    "    pickle_files = os.listdir(simulation_dir + simulation_folder + '/results/')\n",
    "    condition_name = pickle_files[0]\n",
    "    #print('working with {}...'.format(condition_name))\n",
    "    if len(pickle_files) != 1:\n",
    "        raise ValueError('Found a diffent number of expected files')\n",
    "    jar = simulation_dir + simulation_folder + '/results/' + condition_name\n",
    "    f = open(jar,'rb')\n",
    "    [sampleID, result, double_ko_results] = pickle.load(f)\n",
    "    f.close()\n",
    "    \n",
    "    # 2. add gene essentiality to each pair\n",
    "    filtered = double_ko_results[double_ko_results['growth'] < original_growth_value/2]\n",
    "    #print(filtered.shape)\n",
    "    for pair in filtered['ids']:\n",
    "        cobra_pair_list = list(pair)\n",
    "        if len(cobra_pair_list) == 2:\n",
    "            a = cobra_pair_list[0]; b = cobra_pair_list[1]\n",
    "            forward = (a, b); reverse = (b, a)\n",
    "\n",
    "            if forward in gene_pairs:\n",
    "                essentiality[forward].append(condition_name)\n",
    "            if reverse in gene_pairs:\n",
    "                essentiality[reverse].append(condition_name)"
   ]
  },
  {
   "cell_type": "markdown",
   "id": "fdfb920d",
   "metadata": {},
   "source": [
    "# 2. store data"
   ]
  },
  {
   "cell_type": "code",
   "execution_count": 10,
   "id": "e1a004eb",
   "metadata": {},
   "outputs": [],
   "source": [
    "jar = heatmap_info_file\n",
    "f = open(jar,'wb')\n",
    "pickle.dump(essentiality, f)\n",
    "f.close()"
   ]
  }
 ],
 "metadata": {
  "kernelspec": {
   "display_name": "Python 3",
   "language": "python",
   "name": "python3"
  },
  "language_info": {
   "codemirror_mode": {
    "name": "ipython",
    "version": 3
   },
   "file_extension": ".py",
   "mimetype": "text/x-python",
   "name": "python",
   "nbconvert_exporter": "python",
   "pygments_lexer": "ipython3",
   "version": "3.7.11"
  }
 },
 "nbformat": 4,
 "nbformat_minor": 5
}
