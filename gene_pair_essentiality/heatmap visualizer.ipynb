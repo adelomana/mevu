{
 "cells": [
  {
   "cell_type": "markdown",
   "id": "202ab55b",
   "metadata": {},
   "source": [
    "# info\n",
    "This notebook builds a heatmap of conditionally essential gene pairs. <br>"
   ]
  },
  {
   "cell_type": "code",
   "execution_count": 1,
   "id": "aa3ee890",
   "metadata": {},
   "outputs": [],
   "source": [
    "import numpy, pickle, seaborn"
   ]
  },
  {
   "cell_type": "code",
   "execution_count": 2,
   "id": "7abee1b9",
   "metadata": {},
   "outputs": [],
   "source": [
    "import matplotlib, matplotlib.pyplot\n",
    "matplotlib.rcParams.update({'font.size':20, 'font.family':'sans-serif', 'xtick.labelsize':20, 'ytick.labelsize':20, 'figure.figsize':(15, 10)})"
   ]
  },
  {
   "cell_type": "markdown",
   "id": "0f34ed5f",
   "metadata": {},
   "source": [
    "# 0. user-defined variables"
   ]
  },
  {
   "cell_type": "code",
   "execution_count": 3,
   "id": "31ce35ec",
   "metadata": {},
   "outputs": [],
   "source": [
    "# drangajokull\n",
    "heatmap_info_file = '/home/adrian/projects/endomevu/results/heatmap.doubleKO.pickle'"
   ]
  },
  {
   "cell_type": "markdown",
   "id": "847b619a",
   "metadata": {},
   "source": [
    "# 1. read data"
   ]
  },
  {
   "cell_type": "code",
   "execution_count": 4,
   "id": "fa62f7d9",
   "metadata": {},
   "outputs": [
    {
     "name": "stdout",
     "output_type": "stream",
     "text": [
      "CPU times: user 95 ms, sys: 12.4 ms, total: 107 ms\n",
      "Wall time: 107 ms\n"
     ]
    }
   ],
   "source": [
    "%%time\n",
    "jar = heatmap_info_file\n",
    "f = open(jar,'rb')\n",
    "conditional_essentiality = pickle.load(f)\n",
    "f.close()"
   ]
  },
  {
   "cell_type": "markdown",
   "id": "3f1d1c01",
   "metadata": {},
   "source": [
    "# 2. prepare data to plot"
   ]
  },
  {
   "cell_type": "code",
   "execution_count": 5,
   "id": "33b60156",
   "metadata": {},
   "outputs": [
    {
     "name": "stdout",
     "output_type": "stream",
     "text": [
      "2248 ['54675.1', '5279.1', '8654.1']\n"
     ]
    }
   ],
   "source": [
    "# 2248 is the number of model genes\n",
    "\n",
    "all_essential_elements = []\n",
    "for genepair in conditional_essentiality:\n",
    "    for element in genepair:\n",
    "        if element not in all_essential_elements:\n",
    "            all_essential_elements.append(element)\n",
    "print(len(all_essential_elements), all_essential_elements[:3])"
   ]
  },
  {
   "cell_type": "code",
   "execution_count": 6,
   "id": "d773fd7b",
   "metadata": {},
   "outputs": [
    {
     "name": "stdout",
     "output_type": "stream",
     "text": [
      "2248\n",
      "removing cardiolipin synthase\n",
      "2247\n",
      "2435 ('6241.1', '2987.1')\n",
      "2435 ('2987.1', '6241.1')\n",
      "2435 ('2987.1', '50484.1')\n",
      "2435 ('2987.1', '60386.1')\n",
      "2435 ('2987.1', '6240.1')\n",
      "2435 ('50484.1', '2987.1')\n",
      "2435 ('60386.1', '2987.1')\n",
      "2435 ('6240.1', '2987.1')\n"
     ]
    }
   ],
   "source": [
    "cls = '54675.1' # 2,435 conditions is essential\n",
    "print(len(all_essential_elements))\n",
    "if cls in all_essential_elements:\n",
    "    print('removing cardiolipin synthase')\n",
    "    all_essential_elements.remove(cls)\n",
    "    \n",
    "# guk = '2987.1'\n",
    "# if guk in all_essential_elements:\n",
    "#     print('removing guk')\n",
    "#     all_essential_elements.remove(guk)\n",
    "\n",
    "    \n",
    "print(len(all_essential_elements))\n",
    "\n",
    "full = []\n",
    "for i in range(len(all_essential_elements)):\n",
    "    line = []\n",
    "    for j in range(len(all_essential_elements)):\n",
    "        geneA = all_essential_elements[i]\n",
    "        geneB = all_essential_elements[j]\n",
    "\n",
    "        count = 0\n",
    "        forward = (geneA, geneB); reverse = (geneB, geneA)\n",
    "        if forward in conditional_essentiality:\n",
    "            count = len(conditional_essentiality[forward])\n",
    "            #print(geneA, geneB, 'forward', count)\n",
    "        if reverse in conditional_essentiality:\n",
    "            count = len(conditional_essentiality[reverse])\n",
    "            #print(geneA, geneB, 'reverse', count)\n",
    "            \n",
    "        # appending line\n",
    "        if count > 100:\n",
    "            print(count, forward)\n",
    "        line.append(count)\n",
    "        \n",
    "    # appending matrix\n",
    "    full.append(line)"
   ]
  },
  {
   "cell_type": "markdown",
   "id": "339f72b6",
   "metadata": {},
   "source": [
    "2435 ('6241.1', '2987.1')\n",
    "2435 ('2987.1', '6241.1')\n",
    "2435 ('2987.1', '50484.1')\n",
    "2435 ('2987.1', '60386.1')\n",
    "2435 ('2987.1', '6240.1')\n",
    "2435 ('50484.1', '2987.1')\n",
    "2435 ('60386.1', '2987.1')\n",
    "2435 ('6240.1', '2987.1')"
   ]
  },
  {
   "cell_type": "code",
   "execution_count": null,
   "id": "05e41166",
   "metadata": {},
   "outputs": [],
   "source": []
  },
  {
   "cell_type": "code",
   "execution_count": null,
   "id": "5044d5c3",
   "metadata": {},
   "outputs": [],
   "source": []
  },
  {
   "cell_type": "code",
   "execution_count": null,
   "id": "9cd1df05",
   "metadata": {},
   "outputs": [],
   "source": []
  },
  {
   "cell_type": "code",
   "execution_count": 7,
   "id": "450e1b91",
   "metadata": {},
   "outputs": [
    {
     "data": {
      "text/plain": [
       "array([[0, 0, 0, ..., 0, 0, 0],\n",
       "       [0, 0, 0, ..., 0, 0, 0],\n",
       "       [0, 0, 0, ..., 0, 0, 0],\n",
       "       ...,\n",
       "       [0, 0, 0, ..., 0, 0, 0],\n",
       "       [0, 0, 0, ..., 0, 0, 0],\n",
       "       [0, 0, 0, ..., 0, 0, 0]])"
      ]
     },
     "execution_count": 7,
     "metadata": {},
     "output_type": "execute_result"
    }
   ],
   "source": [
    "pm = numpy.array(full)\n",
    "pm"
   ]
  },
  {
   "cell_type": "code",
   "execution_count": 8,
   "id": "56d7702f",
   "metadata": {},
   "outputs": [
    {
     "data": {
      "text/plain": [
       "array([[0., 0., 0., ..., 0., 0., 0.],\n",
       "       [0., 0., 0., ..., 0., 0., 0.],\n",
       "       [0., 0., 0., ..., 0., 0., 0.],\n",
       "       ...,\n",
       "       [0., 0., 0., ..., 0., 0., 0.],\n",
       "       [0., 0., 0., ..., 0., 0., 0.],\n",
       "       [0., 0., 0., ..., 0., 0., 0.]])"
      ]
     },
     "execution_count": 8,
     "metadata": {},
     "output_type": "execute_result"
    }
   ],
   "source": [
    "rpm = pm/numpy.max(pm)\n",
    "rpm"
   ]
  },
  {
   "cell_type": "markdown",
   "id": "5b748fd6",
   "metadata": {},
   "source": [
    "# 3. plot"
   ]
  },
  {
   "cell_type": "code",
   "execution_count": 9,
   "id": "486aaacb",
   "metadata": {},
   "outputs": [],
   "source": [
    "#mask = numpy.triu(numpy.ones_like(rpm, dtype=bool))"
   ]
  },
  {
   "cell_type": "code",
   "execution_count": 10,
   "id": "6120a661",
   "metadata": {},
   "outputs": [
    {
     "data": {
      "text/plain": [
       "<AxesSubplot:>"
      ]
     },
     "execution_count": 10,
     "metadata": {},
     "output_type": "execute_result"
    },
    {
     "data": {
      "image/png": "[encoded data removed]",
      "text/plain": [
       "<Figure size 1080x720 with 2 Axes>"
      ]
     },
     "metadata": {
      "needs_background": "light"
     },
     "output_type": "display_data"
    }
   ],
   "source": [
    "seaborn.heatmap(pm, cmap='cividis', square=True)"
   ]
  },
  {
   "cell_type": "code",
   "execution_count": null,
   "id": "ef8d74e1",
   "metadata": {},
   "outputs": [],
   "source": []
  },
  {
   "cell_type": "code",
   "execution_count": null,
   "id": "dc88b684",
   "metadata": {},
   "outputs": [],
   "source": []
  },
  {
   "cell_type": "code",
   "execution_count": null,
   "id": "59dcc8c7",
   "metadata": {},
   "outputs": [],
   "source": []
  },
  {
   "cell_type": "code",
   "execution_count": null,
   "id": "59fbfb78",
   "metadata": {},
   "outputs": [],
   "source": []
  },
  {
   "cell_type": "code",
   "execution_count": null,
   "id": "3cebc8d0",
   "metadata": {},
   "outputs": [],
   "source": []
  }
 ],
 "metadata": {
  "kernelspec": {
   "display_name": "Python 3",
   "language": "python",
   "name": "python3"
  },
  "language_info": {
   "codemirror_mode": {
    "name": "ipython",
    "version": 3
   },
   "file_extension": ".py",
   "mimetype": "text/x-python",
   "name": "python",
   "nbconvert_exporter": "python",
   "pygments_lexer": "ipython3",
   "version": "3.7.11"
  }
 },
 "nbformat": 4,
 "nbformat_minor": 5
}
