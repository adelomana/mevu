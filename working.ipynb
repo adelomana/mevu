{
 "cells": [
  {
   "cell_type": "code",
   "execution_count": 1,
   "id": "aa3ee890",
   "metadata": {},
   "outputs": [],
   "source": [
    "import os, pickle"
   ]
  },
  {
   "cell_type": "markdown",
   "id": "0f34ed5f",
   "metadata": {},
   "source": [
    "# 0. user-defined variables"
   ]
  },
  {
   "cell_type": "code",
   "execution_count": 2,
   "id": "31ce35ec",
   "metadata": {},
   "outputs": [],
   "source": [
    "simulation_dir = '/home/adrian/projects/endomevu/data/hpc_results/constrained/double_KO/deployments/'"
   ]
  },
  {
   "cell_type": "markdown",
   "id": "d92c7b5e",
   "metadata": {},
   "source": [
    "# 1. read data"
   ]
  },
  {
   "cell_type": "code",
   "execution_count": 3,
   "id": "fa62f7d9",
   "metadata": {},
   "outputs": [
    {
     "name": "stdout",
     "output_type": "stream",
     "text": [
      "CPU times: user 8.93 ms, sys: 4.39 ms, total: 13.3 ms\n",
      "Wall time: 11.1 ms\n"
     ]
    }
   ],
   "source": [
    "%%time\n",
    "simulation_folders = next(os.walk(simulation_dir))[1]\n",
    "simulation_folders.sort()"
   ]
  },
  {
   "cell_type": "code",
   "execution_count": 9,
   "id": "d172056a",
   "metadata": {},
   "outputs": [],
   "source": [
    "original_growth_value = 755.0032155506631"
   ]
  },
  {
   "cell_type": "code",
   "execution_count": 11,
   "id": "2999cd2e",
   "metadata": {},
   "outputs": [
    {
     "name": "stdout",
     "output_type": "stream",
     "text": [
      "(2252,)\n",
      "(2525624,)\n",
      "(2252,)\n",
      "(2525624,)\n",
      "(2252,)\n",
      "(2525624,)\n",
      "(2252,)\n",
      "(2525624,)\n",
      "(2252,)\n",
      "(2525624,)\n",
      "(2252,)\n",
      "(2525624,)\n",
      "(2252,)\n",
      "(2525624,)\n",
      "(2252,)\n",
      "(2525624,)\n",
      "(2252,)\n",
      "(2525624,)\n",
      "(2252,)\n",
      "(2525624,)\n"
     ]
    }
   ],
   "source": [
    "for simulation_folder in simulation_folders[:10]: \n",
    "    \n",
    "    pickle_files = os.listdir(simulation_dir + simulation_folder + '/results/')\n",
    "    condition_name = pickle_files[0]\n",
    "    jar = simulation_dir + simulation_folder + '/results/' + condition_name\n",
    "    f = open(jar,'rb')\n",
    "    [sampleID, result, double_ko_results] = pickle.load(f)\n",
    "    f.close()\n",
    "    \n",
    "    essential_gene_pairs = double_ko_results[double_ko_results['growth'] < original_growth_value/2]['ids']\n",
    "    nonessential_gene_pairs = double_ko_results[double_ko_results['growth'] > original_growth_value/2]['ids']\n",
    "    \n",
    "    print(essential_gene_pairs.shape, nonessential_gene_pairs.shape)\n",
    "\n"
   ]
  },
  {
   "cell_type": "code",
   "execution_count": null,
   "id": "ffbe570a",
   "metadata": {},
   "outputs": [],
   "source": []
  },
  {
   "cell_type": "code",
   "execution_count": null,
   "id": "486aaacb",
   "metadata": {},
   "outputs": [],
   "source": []
  },
  {
   "cell_type": "code",
   "execution_count": null,
   "id": "da41b817",
   "metadata": {},
   "outputs": [],
   "source": []
  },
  {
   "cell_type": "code",
   "execution_count": null,
   "id": "6120a661",
   "metadata": {},
   "outputs": [],
   "source": []
  },
  {
   "cell_type": "code",
   "execution_count": null,
   "id": "ef8d74e1",
   "metadata": {},
   "outputs": [],
   "source": []
  },
  {
   "cell_type": "code",
   "execution_count": null,
   "id": "dc88b684",
   "metadata": {},
   "outputs": [],
   "source": []
  },
  {
   "cell_type": "code",
   "execution_count": null,
   "id": "59dcc8c7",
   "metadata": {},
   "outputs": [],
   "source": []
  },
  {
   "cell_type": "code",
   "execution_count": null,
   "id": "59fbfb78",
   "metadata": {},
   "outputs": [],
   "source": []
  },
  {
   "cell_type": "code",
   "execution_count": null,
   "id": "3cebc8d0",
   "metadata": {},
   "outputs": [],
   "source": []
  }
 ],
 "metadata": {
  "kernelspec": {
   "display_name": "Python 3",
   "language": "python",
   "name": "python3"
  },
  "language_info": {
   "codemirror_mode": {
    "name": "ipython",
    "version": 3
   },
   "file_extension": ".py",
   "mimetype": "text/x-python",
   "name": "python",
   "nbconvert_exporter": "python",
   "pygments_lexer": "ipython3",
   "version": "3.7.11"
  }
 },
 "nbformat": 4,
 "nbformat_minor": 5
}
